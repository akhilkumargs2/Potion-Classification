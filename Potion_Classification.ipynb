{
  "nbformat": 4,
  "nbformat_minor": 0,
  "metadata": {
    "colab": {
      "name": "Potion Classification.ipynb",
      "provenance": [],
      "collapsed_sections": []
    },
    "kernelspec": {
      "name": "python3",
      "display_name": "Python 3"
    },
    "language_info": {
      "name": "python"
    }
  },
  "cells": [
    {
      "cell_type": "markdown",
      "metadata": {
        "id": "auXtuHkGX4Zn"
      },
      "source": [
        "# Imports"
      ]
    },
    {
      "cell_type": "code",
      "metadata": {
        "id": "FMjlcOiWulsm"
      },
      "source": [
        "import pandas as pd"
      ],
      "execution_count": null,
      "outputs": []
    },
    {
      "cell_type": "markdown",
      "metadata": {
        "id": "-xCXcJFSX6TQ"
      },
      "source": [
        "# Data Collection"
      ]
    },
    {
      "cell_type": "code",
      "metadata": {
        "id": "09HLkyVhuvyP",
        "colab": {
          "base_uri": "https://localhost:8080/"
        },
        "outputId": "8393fba7-739b-423e-e4bc-fe7537ce3d4e"
      },
      "source": [
        "!wget https://nkb-backend-otg-media-static.s3.ap-south-1.amazonaws.com/otg_prod/media/Tech_4.0/AI_ML/CCBP_Platform_Projects/Potion_Classification/train_X_poc.csv\n",
        "!wget https://nkb-backend-otg-media-static.s3.ap-south-1.amazonaws.com/otg_prod/media/Tech_4.0/AI_ML/CCBP_Platform_Projects/Potion_Classification/train_Y_poc.csv\n",
        "!wget https://nkb-backend-otg-media-static.s3.ap-south-1.amazonaws.com/otg_prod/media/Tech_4.0/AI_ML/CCBP_Platform_Projects/Potion_Classification/test_X_poc.csv"
      ],
      "execution_count": null,
      "outputs": [
        {
          "output_type": "stream",
          "name": "stdout",
          "text": [
            "--2021-09-16 16:39:40--  https://nkb-backend-otg-media-static.s3.ap-south-1.amazonaws.com/otg_prod/media/Tech_4.0/AI_ML/CCBP_Platform_Projects/Potion_Classification/train_X_poc.csv\n",
            "Resolving nkb-backend-otg-media-static.s3.ap-south-1.amazonaws.com (nkb-backend-otg-media-static.s3.ap-south-1.amazonaws.com)... 52.219.64.15\n",
            "Connecting to nkb-backend-otg-media-static.s3.ap-south-1.amazonaws.com (nkb-backend-otg-media-static.s3.ap-south-1.amazonaws.com)|52.219.64.15|:443... connected.\n",
            "HTTP request sent, awaiting response... 200 OK\n",
            "Length: 312331 (305K) [text/csv]\n",
            "Saving to: ‘train_X_poc.csv’\n",
            "\n",
            "train_X_poc.csv     100%[===================>] 305.01K   562KB/s    in 0.5s    \n",
            "\n",
            "2021-09-16 16:39:41 (562 KB/s) - ‘train_X_poc.csv’ saved [312331/312331]\n",
            "\n",
            "--2021-09-16 16:39:41--  https://nkb-backend-otg-media-static.s3.ap-south-1.amazonaws.com/otg_prod/media/Tech_4.0/AI_ML/CCBP_Platform_Projects/Potion_Classification/train_Y_poc.csv\n",
            "Resolving nkb-backend-otg-media-static.s3.ap-south-1.amazonaws.com (nkb-backend-otg-media-static.s3.ap-south-1.amazonaws.com)... 52.219.64.15\n",
            "Connecting to nkb-backend-otg-media-static.s3.ap-south-1.amazonaws.com (nkb-backend-otg-media-static.s3.ap-south-1.amazonaws.com)|52.219.64.15|:443... connected.\n",
            "HTTP request sent, awaiting response... 200 OK\n",
            "Length: 3373 (3.3K) [text/csv]\n",
            "Saving to: ‘train_Y_poc.csv’\n",
            "\n",
            "train_Y_poc.csv     100%[===================>]   3.29K  --.-KB/s    in 0s      \n",
            "\n",
            "2021-09-16 16:39:41 (167 MB/s) - ‘train_Y_poc.csv’ saved [3373/3373]\n",
            "\n",
            "--2021-09-16 16:39:41--  https://nkb-backend-otg-media-static.s3.ap-south-1.amazonaws.com/otg_prod/media/Tech_4.0/AI_ML/CCBP_Platform_Projects/Potion_Classification/test_X_poc.csv\n",
            "Resolving nkb-backend-otg-media-static.s3.ap-south-1.amazonaws.com (nkb-backend-otg-media-static.s3.ap-south-1.amazonaws.com)... 52.219.64.15\n",
            "Connecting to nkb-backend-otg-media-static.s3.ap-south-1.amazonaws.com (nkb-backend-otg-media-static.s3.ap-south-1.amazonaws.com)|52.219.64.15|:443... connected.\n",
            "HTTP request sent, awaiting response... 200 OK\n",
            "Length: 104382 (102K) [text/csv]\n",
            "Saving to: ‘test_X_poc.csv’\n",
            "\n",
            "test_X_poc.csv      100%[===================>] 101.94K   302KB/s    in 0.3s    \n",
            "\n",
            "2021-09-16 16:39:42 (302 KB/s) - ‘test_X_poc.csv’ saved [104382/104382]\n",
            "\n"
          ]
        }
      ]
    },
    {
      "cell_type": "code",
      "metadata": {
        "id": "HoJx-RR61Sk2"
      },
      "source": [
        "train_X_df = pd.read_csv('train_X_poc.csv')\n",
        "train_Y_df = pd.read_csv('train_Y_poc.csv', header=None).squeeze()\n",
        "test_X_df = pd.read_csv('test_X_poc.csv')"
      ],
      "execution_count": null,
      "outputs": []
    },
    {
      "cell_type": "markdown",
      "metadata": {
        "id": "CXMWtQ3mZ45m"
      },
      "source": [
        "# Understanding Data"
      ]
    },
    {
      "cell_type": "code",
      "metadata": {
        "id": "b3zEjIS2Z8_A",
        "colab": {
          "base_uri": "https://localhost:8080/"
        },
        "outputId": "71d3828c-f3d6-4f80-8af0-4d569d6e13d3"
      },
      "source": [
        "train_X_df.info()"
      ],
      "execution_count": null,
      "outputs": [
        {
          "output_type": "stream",
          "name": "stdout",
          "text": [
            "<class 'pandas.core.frame.DataFrame'>\n",
            "RangeIndex: 1125 entries, 0 to 1124\n",
            "Data columns (total 20 columns):\n",
            " #   Column                    Non-Null Count  Dtype  \n",
            "---  ------                    --------------  -----  \n",
            " 0   peppermint                1125 non-null   float64\n",
            " 1   dittany                   1125 non-null   float64\n",
            " 2   lavender                  1125 non-null   float64\n",
            " 3   ginger_root_width(mm)     1125 non-null   float64\n",
            " 4   powdered_dragon_claw(mg)  1125 non-null   float64\n",
            " 5   fluxweed(mg)              1125 non-null   float64\n",
            " 6   drops_of_tree_wood_oil    1125 non-null   float64\n",
            " 7   fire_seed                 1125 non-null   float64\n",
            " 8   rose_petal                1125 non-null   float64\n",
            " 9   daisy_root_width          1125 non-null   float64\n",
            " 10  daisy_root_height         1125 non-null   float64\n",
            " 11  water(ml)                 1125 non-null   float64\n",
            " 12  dragon_blood(ml)          1125 non-null   float64\n",
            " 13  porcupine_quills          1125 non-null   float64\n",
            " 14  drops_of_red_wine         1125 non-null   float64\n",
            " 15  gillyweed(mg)             1125 non-null   float64\n",
            " 16  honey(mg)                 1125 non-null   float64\n",
            " 17  morning_dew               1125 non-null   float64\n",
            " 18  ginger_root_height(mm)    1125 non-null   float64\n",
            " 19  leech_juice(ml)           1125 non-null   float64\n",
            "dtypes: float64(20)\n",
            "memory usage: 175.9 KB\n"
          ]
        }
      ]
    },
    {
      "cell_type": "code",
      "metadata": {
        "colab": {
          "base_uri": "https://localhost:8080/",
          "height": 223
        },
        "id": "4z3vQJJe_zGi",
        "outputId": "935b45d3-6fba-4b58-8e29-93074d540318"
      },
      "source": [
        "train_X_df.head()"
      ],
      "execution_count": null,
      "outputs": [
        {
          "output_type": "execute_result",
          "data": {
            "text/html": [
              "<div>\n",
              "<style scoped>\n",
              "    .dataframe tbody tr th:only-of-type {\n",
              "        vertical-align: middle;\n",
              "    }\n",
              "\n",
              "    .dataframe tbody tr th {\n",
              "        vertical-align: top;\n",
              "    }\n",
              "\n",
              "    .dataframe thead th {\n",
              "        text-align: right;\n",
              "    }\n",
              "</style>\n",
              "<table border=\"1\" class=\"dataframe\">\n",
              "  <thead>\n",
              "    <tr style=\"text-align: right;\">\n",
              "      <th></th>\n",
              "      <th>peppermint</th>\n",
              "      <th>dittany</th>\n",
              "      <th>lavender</th>\n",
              "      <th>ginger_root_width(mm)</th>\n",
              "      <th>powdered_dragon_claw(mg)</th>\n",
              "      <th>fluxweed(mg)</th>\n",
              "      <th>drops_of_tree_wood_oil</th>\n",
              "      <th>fire_seed</th>\n",
              "      <th>rose_petal</th>\n",
              "      <th>daisy_root_width</th>\n",
              "      <th>daisy_root_height</th>\n",
              "      <th>water(ml)</th>\n",
              "      <th>dragon_blood(ml)</th>\n",
              "      <th>porcupine_quills</th>\n",
              "      <th>drops_of_red_wine</th>\n",
              "      <th>gillyweed(mg)</th>\n",
              "      <th>honey(mg)</th>\n",
              "      <th>morning_dew</th>\n",
              "      <th>ginger_root_height(mm)</th>\n",
              "      <th>leech_juice(ml)</th>\n",
              "    </tr>\n",
              "  </thead>\n",
              "  <tbody>\n",
              "    <tr>\n",
              "      <th>0</th>\n",
              "      <td>1.0</td>\n",
              "      <td>0.0</td>\n",
              "      <td>1.0</td>\n",
              "      <td>0.172230</td>\n",
              "      <td>0.10</td>\n",
              "      <td>0.857143</td>\n",
              "      <td>0.426243</td>\n",
              "      <td>0.0</td>\n",
              "      <td>0.0</td>\n",
              "      <td>0.722222</td>\n",
              "      <td>0.714286</td>\n",
              "      <td>0.656417</td>\n",
              "      <td>0.111111</td>\n",
              "      <td>0.000000</td>\n",
              "      <td>0.055556</td>\n",
              "      <td>56.0</td>\n",
              "      <td>4.1</td>\n",
              "      <td>1.0</td>\n",
              "      <td>0.272447</td>\n",
              "      <td>0.800000</td>\n",
              "    </tr>\n",
              "    <tr>\n",
              "      <th>1</th>\n",
              "      <td>1.0</td>\n",
              "      <td>1.0</td>\n",
              "      <td>1.0</td>\n",
              "      <td>0.338451</td>\n",
              "      <td>0.45</td>\n",
              "      <td>0.142857</td>\n",
              "      <td>0.200160</td>\n",
              "      <td>1.0</td>\n",
              "      <td>0.0</td>\n",
              "      <td>0.111111</td>\n",
              "      <td>0.500000</td>\n",
              "      <td>0.233957</td>\n",
              "      <td>1.000000</td>\n",
              "      <td>0.666667</td>\n",
              "      <td>0.388889</td>\n",
              "      <td>56.0</td>\n",
              "      <td>4.3</td>\n",
              "      <td>0.0</td>\n",
              "      <td>0.404310</td>\n",
              "      <td>0.175000</td>\n",
              "    </tr>\n",
              "    <tr>\n",
              "      <th>2</th>\n",
              "      <td>1.0</td>\n",
              "      <td>1.0</td>\n",
              "      <td>1.0</td>\n",
              "      <td>0.638184</td>\n",
              "      <td>0.60</td>\n",
              "      <td>1.000000</td>\n",
              "      <td>0.743453</td>\n",
              "      <td>0.0</td>\n",
              "      <td>1.0</td>\n",
              "      <td>0.388889</td>\n",
              "      <td>0.714286</td>\n",
              "      <td>0.635027</td>\n",
              "      <td>0.555556</td>\n",
              "      <td>0.888889</td>\n",
              "      <td>0.277778</td>\n",
              "      <td>59.0</td>\n",
              "      <td>2.5</td>\n",
              "      <td>0.0</td>\n",
              "      <td>0.416624</td>\n",
              "      <td>0.841667</td>\n",
              "    </tr>\n",
              "    <tr>\n",
              "      <th>3</th>\n",
              "      <td>1.0</td>\n",
              "      <td>0.0</td>\n",
              "      <td>0.0</td>\n",
              "      <td>0.830441</td>\n",
              "      <td>0.50</td>\n",
              "      <td>0.714286</td>\n",
              "      <td>0.194816</td>\n",
              "      <td>1.0</td>\n",
              "      <td>0.0</td>\n",
              "      <td>0.611111</td>\n",
              "      <td>0.500000</td>\n",
              "      <td>0.649064</td>\n",
              "      <td>0.444444</td>\n",
              "      <td>0.277778</td>\n",
              "      <td>0.055556</td>\n",
              "      <td>38.0</td>\n",
              "      <td>4.8</td>\n",
              "      <td>1.0</td>\n",
              "      <td>0.744997</td>\n",
              "      <td>0.416667</td>\n",
              "    </tr>\n",
              "    <tr>\n",
              "      <th>4</th>\n",
              "      <td>1.0</td>\n",
              "      <td>1.0</td>\n",
              "      <td>0.0</td>\n",
              "      <td>0.080774</td>\n",
              "      <td>0.80</td>\n",
              "      <td>0.714286</td>\n",
              "      <td>0.728220</td>\n",
              "      <td>1.0</td>\n",
              "      <td>1.0</td>\n",
              "      <td>0.333333</td>\n",
              "      <td>0.714286</td>\n",
              "      <td>0.307487</td>\n",
              "      <td>0.222222</td>\n",
              "      <td>0.277778</td>\n",
              "      <td>0.555556</td>\n",
              "      <td>53.0</td>\n",
              "      <td>3.5</td>\n",
              "      <td>1.0</td>\n",
              "      <td>0.284248</td>\n",
              "      <td>0.600000</td>\n",
              "    </tr>\n",
              "  </tbody>\n",
              "</table>\n",
              "</div>"
            ],
            "text/plain": [
              "   peppermint  dittany  ...  ginger_root_height(mm)  leech_juice(ml)\n",
              "0         1.0      0.0  ...                0.272447         0.800000\n",
              "1         1.0      1.0  ...                0.404310         0.175000\n",
              "2         1.0      1.0  ...                0.416624         0.841667\n",
              "3         1.0      0.0  ...                0.744997         0.416667\n",
              "4         1.0      1.0  ...                0.284248         0.600000\n",
              "\n",
              "[5 rows x 20 columns]"
            ]
          },
          "metadata": {},
          "execution_count": 5
        }
      ]
    },
    {
      "cell_type": "markdown",
      "metadata": {
        "id": "ZtlSrHBjeZsN"
      },
      "source": [
        "# Implementation"
      ]
    },
    {
      "cell_type": "code",
      "metadata": {
        "id": "m3_k1uXjCnPF"
      },
      "source": [
        "from sklearn.pipeline import Pipeline\n",
        "from sklearn.linear_model import LogisticRegression\n",
        "from sklearn.neighbors import KNeighborsClassifier\n",
        "from sklearn.preprocessing import MinMaxScaler, StandardScaler, RobustScaler\n",
        "from sklearn.feature_selection import SelectKBest, f_regression\n",
        "from sklearn.model_selection import GridSearchCV\n",
        "\n",
        "pipe = Pipeline(steps=[('scaler', RobustScaler()),\n",
        "                       ('selector', SelectKBest(score_func=f_regression)),\n",
        "                       ('classifier', LogisticRegression(solver='sag', max_iter=2000))])"
      ],
      "execution_count": null,
      "outputs": []
    },
    {
      "cell_type": "code",
      "metadata": {
        "colab": {
          "base_uri": "https://localhost:8080/"
        },
        "id": "Tl7eWhGZC7E2",
        "outputId": "10e361ed-1556-444a-9a33-6d315baddb92"
      },
      "source": [
        "param_distributions = [\n",
        "              {\n",
        "                'scaler': [StandardScaler(), MinMaxScaler(), RobustScaler(), 'passthrough'],\n",
        "                'selector__k': [10, 15, 18],\n",
        "                'classifier': [LogisticRegression(solver='lbfgs', max_iter=5000, multi_class='ovr')],\n",
        "                'classifier__penalty': ['l2', 'none']\n",
        "              },\n",
        "              {\n",
        "                'scaler': [StandardScaler(), MinMaxScaler(), RobustScaler(), 'passthrough'],\n",
        "                'classifier': [KNeighborsClassifier()],\n",
        "                'classifier__n_neighbors': range(1,20),\n",
        "                'classifier__p': [1, 2, 3, 4]\n",
        "              }\n",
        "            ]\n",
        "\n",
        "grid_search_cv = GridSearchCV(pipe, param_grid=param_distributions, scoring='f1_weighted', refit=True, cv=5) \n",
        "grid_search_cv.fit(train_X_df, train_Y_df)\n",
        "print(grid_search_cv.best_params_)"
      ],
      "execution_count": null,
      "outputs": [
        {
          "output_type": "stream",
          "name": "stdout",
          "text": [
            "{'classifier': LogisticRegression(C=1.0, class_weight=None, dual=False, fit_intercept=True,\n",
            "                   intercept_scaling=1, l1_ratio=None, max_iter=5000,\n",
            "                   multi_class='ovr', n_jobs=None, penalty='none',\n",
            "                   random_state=None, solver='lbfgs', tol=0.0001, verbose=0,\n",
            "                   warm_start=False), 'classifier__penalty': 'none', 'scaler': RobustScaler(copy=True, quantile_range=(25.0, 75.0), with_centering=True,\n",
            "             with_scaling=True), 'selector__k': 10}\n"
          ]
        }
      ]
    },
    {
      "cell_type": "code",
      "metadata": {
        "colab": {
          "base_uri": "https://localhost:8080/"
        },
        "id": "w-uIWcnrFCLh",
        "outputId": "0b734366-4ffd-44da-b35e-12f0beb0d6ca"
      },
      "source": [
        "grid_search_cv.score(train_X_df, train_Y_df)"
      ],
      "execution_count": null,
      "outputs": [
        {
          "output_type": "execute_result",
          "data": {
            "text/plain": [
              "0.8954307065789857"
            ]
          },
          "metadata": {},
          "execution_count": 8
        }
      ]
    },
    {
      "cell_type": "code",
      "metadata": {
        "id": "riOuRV0bFc67"
      },
      "source": [
        "predicted_test_Y = grid_search_cv.predict(test_X_df)"
      ],
      "execution_count": null,
      "outputs": []
    },
    {
      "cell_type": "markdown",
      "metadata": {
        "id": "LS-bO56FMt8p"
      },
      "source": [
        "Writing the predicted values to CSV file"
      ]
    },
    {
      "cell_type": "code",
      "metadata": {
        "id": "ukTLnsCzMwJE"
      },
      "source": [
        "pd.DataFrame(predicted_test_Y).to_csv('predicted_test_Y_poc.csv', header=None, index=False)"
      ],
      "execution_count": null,
      "outputs": []
    }
  ]
}